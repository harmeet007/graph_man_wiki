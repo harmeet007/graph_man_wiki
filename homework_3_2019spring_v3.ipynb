{
  "nbformat": 4,
  "nbformat_minor": 0,
  "metadata": {
    "colab": {
      "name": "homework_3_2019spring_v3.ipynb",
      "version": "0.3.2",
      "provenance": [],
      "collapsed_sections": [],
      "toc_visible": true,
      "include_colab_link": true
    },
    "kernelspec": {
      "display_name": "Python 3",
      "language": "python",
      "name": "python3"
    }
  },
  "cells": [
    {
      "cell_type": "markdown",
      "metadata": {
        "id": "view-in-github",
        "colab_type": "text"
      },
      "source": [
        "<a href=\"https://colab.research.google.com/github/harmeet007/graph_man_wiki/blob/master/homework_3_2019spring_v3.ipynb\" target=\"_parent\"><img src=\"https://colab.research.google.com/assets/colab-badge.svg\" alt=\"Open In Colab\"/></a>"
      ]
    },
    {
      "metadata": {
        "id": "FhwQS2pyc4FW",
        "colab_type": "text"
      },
      "cell_type": "markdown",
      "source": [
        "#### CSCE 670 :: Information Storage and Retrieval :: Texas A&M University :: Spring 2019\n",
        "\n",
        "\n",
        "# Homework 3:   Collaborative Filtering + Matrix Factorization\n",
        "\n",
        "### 100 points [6% of your final grade]\n",
        "\n",
        "### Due: Wednesday, March 27, 2019 by 11:59pm\n",
        "\n",
        "*Goals of this homework:* Understand how collaborative filtering and matrix factorization works. Explore different methods for real-world recommendation senarios.\n",
        "\n",
        "*Submission instructions (eCampus):* To submit your homework, rename this notebook as `UIN_hw3.ipynb`. For example, my homework submission would be something like `555001234_hw3.ipynb`. Submit this notebook via eCampus (look for the homework 3 assignment there). Your notebook should be completely self-contained, with the results visible in the notebook. We should not have to run any code from the command line, nor should we have to run your code within the notebook (though we reserve the right to do so). So please run all the cells for us, and then submit.\n",
        "\n",
        "*Late submission policy:* For this homework, you may use as many late days as you like (up to the 5 total allotted to you).\n",
        "\n",
        "*Collaboration policy:* You are expected to complete each homework independently. Your solution should be written by you without the direct aid or help of anyone else. However, we believe that collaboration and team work are important for facilitating learning, so we encourage you to discuss problems and general problem approaches (but not actual solutions) with your classmates. You may post on Piazza, search StackOverflow, etc. But if you do get help in this way, you must inform us by **filling out the Collaboration Declarations at the bottom of this notebook**. \n",
        "\n",
        "*Example: I found helpful code on stackoverflow at https://stackoverflow.com/questions/11764539/writing-fizzbuzz that helped me solve Problem 2.*\n",
        "\n",
        "The basic rule is that no student should explicitly share a solution with another student (and thereby circumvent the basic learning process), but it is okay to share general approaches, directions, and so on. If you feel like you have an issue that needs clarification, feel free to contact either me or the TA."
      ]
    },
    {
      "metadata": {
        "id": "2vte4DuWc4FX",
        "colab_type": "text"
      },
      "cell_type": "markdown",
      "source": [
        "# Part 1. Collaborative Filtering (50 points)\n",
        "\n",
        "In this part, you will implement collaborative filtering on the [MovieLens Latest Datasets](http://files.grouplens.org/datasets/movielens/ml-latest-small-README.html). After removing users who left less than 20 ratings and movies with less than 20 ratings, the provided dataset has only ~1,200 items and ~500 users. You can also check the title and genres of each movie in *movies_info.csv*.\n",
        "\n",
        "As background, read [Collaborative Filtering Recommender Systems](http://files.grouplens.org/papers/FnT%20CF%20Recsys%20Survey.pdf) and refer to the course slides `week06rec.pdf` for collaborative filtering."
      ]
    },
    {
      "metadata": {
        "id": "28DTuJsSc4FY",
        "colab_type": "text"
      },
      "cell_type": "markdown",
      "source": [
        "## 1.1 Load the Data\n",
        "\n",
        "Please download the dataset from Piazza. There are about 65,000 ratings in total. We split the rating data into two set. You will train with 70% of the data (in *train_movie.csv*) and test on the remaining 30% of data (in *test_movie.csv*). Each of train and test files has lines having this format: UserID, MovieID, Rating. \n",
        "\n",
        "First you will need to load the data and store it with any structure you like. Please report the numbers of unique users and movies in the dataset. "
      ]
    },
    {
      "metadata": {
        "id": "K5ryC7aQc4FZ",
        "colab_type": "code",
        "outputId": "fe836c43-076a-43e9-88b1-b5a28b399f88",
        "colab": {
          "base_uri": "https://localhost:8080/",
          "height": 118
        }
      },
      "cell_type": "code",
      "source": [
        "# load the data, then print out the number of\n",
        "# movies and users in each of train and test sets.\n",
        "# Your Code Here...\n",
        "import pandas as pd\n",
        "import numpy as np\n",
        "import math\n",
        "\n",
        "train_data = pd.read_csv('train_movie.csv')\n",
        "test_data = pd.read_csv('test_movie.csv')\n",
        "\n",
        "print(train_data.head())\n",
        "\n",
        "train_table = pd.pivot_table(train_data,values='rating',index=['userId'],columns=['movieId'],fill_value=0)\n",
        "#print(train_table)\n",
        "# for i in range(len(train_table)):\n",
        "#   for j in range(len(train_table[0])):\n",
        "#     print(train_table[i][j])\n",
        "#train_data.groupby(['userId','movieId']).size().unstack(fill_value=0)\n",
        "# print('Unique users count:', len(train_data.userId.unique()+test_data.userId.unique()))\n",
        "# print('Unique movies count: ', len(train_data.movieId.unique()+test_data.movieId.unique()))\n",
        "\n",
        "np_user = train_data.userId.unique()\n",
        "np_movie = train_data.movieId.unique() \n",
        "# #max(train_data.movieId.values)\n",
        "# train_mat = np.zeros((541,1211))\n",
        "# #test_mat = np.zeros((541,1211))\n",
        "# for i in np_user:\n",
        "#   for j in np_movie:\n",
        "#     try:\n",
        "#       train_mat[i][j] = train_data.loc[(train_data['userId'] == i) & (train_data['movieId'] == j) , 'rating'].iloc[0]\n",
        "#       #test_mat[i][j] = test_data.loc[(test_data['userId'] == i) & (test_data['movieId'] == j) , 'rating'].iloc[0]\n",
        "#     except:\n",
        "#       train_mat[i][j] = 0\n",
        "#       #test_mat[i][j] = 0"
      ],
      "execution_count": 0,
      "outputs": [
        {
          "output_type": "stream",
          "text": [
            "   userId  movieId  rating\n",
            "0       0        4       4\n",
            "1       0       23       5\n",
            "2       0       25       5\n",
            "3       0       31       3\n",
            "4       0       33       5\n"
          ],
          "name": "stdout"
        }
      ]
    },
    {
      "metadata": {
        "id": "JMFmBCyQOAvZ",
        "colab_type": "code",
        "outputId": "585261bb-75eb-4cdb-898c-5da581b689b8",
        "colab": {
          "base_uri": "https://localhost:8080/",
          "height": 34
        }
      },
      "cell_type": "code",
      "source": [
        "train_table.loc[users].shape"
      ],
      "execution_count": 0,
      "outputs": [
        {
          "output_type": "execute_result",
          "data": {
            "text/plain": [
              "(72, 1211)"
            ]
          },
          "metadata": {
            "tags": []
          },
          "execution_count": 71
        }
      ]
    },
    {
      "metadata": {
        "id": "HScSDjFqkvC5",
        "colab_type": "code",
        "outputId": "a70ceb88-7614-40fb-d2b1-ec2f1ccc7b78",
        "colab": {
          "base_uri": "https://localhost:8080/",
          "height": 34
        }
      },
      "cell_type": "code",
      "source": [
        "type(train_table)\n"
      ],
      "execution_count": 0,
      "outputs": [
        {
          "output_type": "execute_result",
          "data": {
            "text/plain": [
              "pandas.core.frame.DataFrame"
            ]
          },
          "metadata": {
            "tags": []
          },
          "execution_count": 26
        }
      ]
    },
    {
      "metadata": {
        "id": "yw04jX7iaugJ",
        "colab_type": "code",
        "outputId": "9cc6b01e-f3f9-49d3-a460-f6b65696838e",
        "colab": {
          "base_uri": "https://localhost:8080/",
          "height": 34
        }
      },
      "cell_type": "code",
      "source": [
        "a = train_table.query(\"userId== 0\")\n",
        "a.shape\n"
      ],
      "execution_count": 0,
      "outputs": [
        {
          "output_type": "execute_result",
          "data": {
            "text/plain": [
              "(1, 1211)"
            ]
          },
          "metadata": {
            "tags": []
          },
          "execution_count": 41
        }
      ]
    },
    {
      "metadata": {
        "id": "bubPL49XOOWz",
        "colab_type": "code",
        "colab": {}
      },
      "cell_type": "code",
      "source": [
        ""
      ],
      "execution_count": 0,
      "outputs": []
    },
    {
      "metadata": {
        "id": "o1UUxLA5OME9",
        "colab_type": "code",
        "colab": {}
      },
      "cell_type": "code",
      "source": [
        ""
      ],
      "execution_count": 0,
      "outputs": []
    },
    {
      "metadata": {
        "id": "QV0gLvVDWR0h",
        "colab_type": "code",
        "colab": {}
      },
      "cell_type": "code",
      "source": [
        ""
      ],
      "execution_count": 0,
      "outputs": []
    },
    {
      "metadata": {
        "id": "qNdSy2tJc4Fc",
        "colab_type": "text"
      },
      "cell_type": "markdown",
      "source": [
        "## 1.2 Implement User-based Collaborative Filtering\n",
        "\n",
        "In this part, you will implement the basic User–User Collaborative Filtering algorithm introduced in the class. Given the ratings by each user, you are going to try different methods in calculating the similarities between users. You will use equation `(c)` in `week06rec.pdf` (Page 40) to aggregate ratings. Set k = 0.05. Just consider all users as neighbors. That is, while predicting how user $u$ will rate item $i$, $\\widehat{C}$ includes all users who have ratings on i in the training set.\n",
        "\n",
        "*For this memory-based algorithm, you can only rely on the ratings in training set to predict for the testing set. That is, you assume that you don't know any ratings information in the test set except that when you evalaute your model.*"
      ]
    },
    {
      "metadata": {
        "id": "Zx7Zqu9Mc4Fd",
        "colab_type": "text"
      },
      "cell_type": "markdown",
      "source": [
        "### Cosine Similarity\n",
        "\n",
        "First, you will try to calculate the similarity between users with cosine similary following the equation on page 16 of [Collaborative Filtering Recommender Systems](http://files.grouplens.org/papers/FnT%20CF%20Recsys%20Survey.pdf). And then you need to predict the rating for each (user, movie) tuple in the test set. *Note: you don't need to subtract user mean baseline from the ratings prior to computing the similarity.*"
      ]
    },
    {
      "metadata": {
        "id": "ShKLjwywc4Fe",
        "colab_type": "code",
        "outputId": "3a9f2083-0d58-4820-b4da-4f7063fbab8d",
        "colab": {
          "base_uri": "https://localhost:8080/",
          "height": 1035
        }
      },
      "cell_type": "code",
      "source": [
        "# Your Code Here...\n",
        "# Predict for test set\n",
        "# for item in train_data.movieId.unique():\n",
        "#         domain = df.index[df['movieId']==item].tolist()\n",
        "# def cosSim(user,target_user,target_movie,train_data,test_data):\n",
        "#     num = 0\n",
        "#     den,den1,den2,avg_rating,avg_target = 0,0,0,0,0\n",
        "#     domain_A = train_data.index[train_data['userId']==user].tolist()\n",
        "#     test_domain_A = test_data.index[test_data['userId']==user].tolist()\n",
        "#     domain_B = train_data.index[train_data['userId']==target_user].tolist()\n",
        "#     test_domain_B = test_data.index[test_data['userId']==target_user].tolist()\n",
        "#     mov_A,mov_B = {},{}\n",
        "#     for ind in domain_A:\n",
        "#         mov_A[train_data.at[ind,'movieId']] = train_data.at[ind,'rating']\n",
        "#     for ind in domain_B:\n",
        "#         mov_B[train_data.at[ind,'movieId']] = train_data.at[ind,'rating']\n",
        "#     test_mov_A,test_mov_B = {},{}\n",
        "#     for ind in test_domain_A:\n",
        "#         test_mov_A[test_data.at[ind,'movieId']] = test_data.at[ind,'rating']\n",
        "#     for ind in test_domain_B:\n",
        "#         test_mov_B[test_data.at[ind,'movieId']] = test_data.at[ind,'rating']\n",
        "#     comm = list(set(mov_A.keys()).intersection(mov_B.keys()))\n",
        "#     for movie in comm:\n",
        "#         num += (mov_A[movie]*mov_B[movie])\n",
        "#     for movie in mov_A:\n",
        "#         den1 += mov_A[movie]**2\n",
        "#     for movie in test_mov_A:\n",
        "#         avg_rating += test_mov_A[movie]\n",
        "#     for movie in mov_B:\n",
        "#         den2 += mov_B[movie]**2\n",
        "#     for movie in test_mov_B:\n",
        "#         avg_target += test_mov_B[movie]\n",
        "#     den = math.sqrt(den1)*math.sqrt(den2)\n",
        "#     return ((num/den), (avg_rating/len(test_domain_A)), (avg_target/len(test_domain_B)), (test_mov_A.get(target_movie,0)))\n",
        "\n",
        "\n",
        "# def predictModel(user_list,target_user,target_movie,train_data,test_data,k=0.05):\n",
        "#     r = 0\n",
        "#     for user in user_list:                       \n",
        "#         similarity, avg_user_rating, avg_target_rating, user_rating = cosSim(user,target_user,target_movie,train_data,test_data)\n",
        "#         r += similarity*(user_rating - avg_user_rating)\n",
        "#     return (avg_target_rating + k*r)\n",
        "\n",
        "# def neighbours(target_movie,target_user,train_table):\n",
        "#     #user_list = [i for i in range(len(train_mat)) if train_table.query(\"userId==i\")[target_movie] != 0]\n",
        "# #     index_list = train_data.index[train_data['movieId']==target_movie].tolist()\n",
        "# #     user_list = [train_data.at[ind,'userId'] for ind in index_list]\n",
        "#     user_list = train_data[train_data['movieId']==target_movie & train_data['userId'] != target_user]['userId']\n",
        "# #     if target_user in user_list:\n",
        "# #         user_list.remove(target_user)\n",
        "#     return user_list \n",
        "\n",
        "def neighbours(target_movie,target_user,train_data):\n",
        "    user_list = train_data[(train_data['movieId']==target_movie) & (train_data['userId'] != target_user)]['userId']\n",
        "    return user_list \n",
        "     \n",
        "def CF(test_data,train_table,train_data,k=0.05):\n",
        "    rating = {}\n",
        "    pred_matrix = np.zeros((541,1211))\n",
        "    for target_user in test_data.userId.unique():\n",
        "      for target_movie in test_data.movieId.unique():\n",
        "        user_list = neighbours(target_movie,target_user,train_data)\n",
        "        \n",
        "        neighbours_movies = train_table.loc[user_list]\n",
        "        denom_neighbours_movies = 1/ np.sqrt(neighbours_movies.pow(2).sum(1))\n",
        "\n",
        "        user_movies = train_table.loc[[target_user]]\n",
        "        denom_user_movies = 1/ np.sqrt(user_movies.pow(2).sum(1))\n",
        "\n",
        "        denom = np.expand_dims(np.multiply(denom_neighbours_movies, denom_user_movies), axis=1)\n",
        "        similarity = neighbours_movies.dot(user_movies.T).multiply(denom)\n",
        "        #===\n",
        "        #rating_mean = np.expand_dims(np.mean(neighbours_movies, axis=1), axis=1)\n",
        "        rating_mean = np.mean(neighbours_movies, axis=1)\n",
        "        next_term = np.subtract(neighbours_movies[target_movie],rating_mean)\n",
        "        #===\n",
        "        rating_mean_user = np.expand_dims(np.mean(user_movies, axis=1), axis=1)\n",
        "        #==\n",
        "        mul_term = similarity.T.dot(next_term)\n",
        "        #mul_term.shape\n",
        "        pred_matrix[target_user][target_movie] = np.add(rating_mean_user, k*np.sum(mul_term))\n",
        "\n",
        "predicted_rating = CF(test_data,train_table,train_data)          \n",
        "       \n"
      ],
      "execution_count": 0,
      "outputs": [
        {
          "output_type": "error",
          "ename": "KeyboardInterrupt",
          "evalue": "ignored",
          "traceback": [
            "\u001b[0;31m---------------------------------------------------------------------------\u001b[0m",
            "\u001b[0;31mKeyboardInterrupt\u001b[0m                         Traceback (most recent call last)",
            "\u001b[0;32m<ipython-input-151-138738ed049b>\u001b[0m in \u001b[0;36m<module>\u001b[0;34m()\u001b[0m\n\u001b[1;32m     37\u001b[0m \u001b[0;31m#     return rating\u001b[0m\u001b[0;34m\u001b[0m\u001b[0;34m\u001b[0m\u001b[0;34m\u001b[0m\u001b[0m\n\u001b[1;32m     38\u001b[0m \u001b[0;34m\u001b[0m\u001b[0m\n\u001b[0;32m---> 39\u001b[0;31m \u001b[0mpredicted_rating\u001b[0m \u001b[0;34m=\u001b[0m \u001b[0mCF\u001b[0m\u001b[0;34m(\u001b[0m\u001b[0mtest_data\u001b[0m\u001b[0;34m,\u001b[0m\u001b[0mtrain_table\u001b[0m\u001b[0;34m,\u001b[0m\u001b[0mtrain_data\u001b[0m\u001b[0;34m)\u001b[0m\u001b[0;34m\u001b[0m\u001b[0;34m\u001b[0m\u001b[0m\n\u001b[0m\u001b[1;32m     40\u001b[0m \u001b[0;34m\u001b[0m\u001b[0m\n",
            "\u001b[0;32m<ipython-input-151-138738ed049b>\u001b[0m in \u001b[0;36mCF\u001b[0;34m(test_data, train_table, train_data, k)\u001b[0m\n\u001b[1;32m     14\u001b[0m         \u001b[0mdenom_neighbours_movies\u001b[0m \u001b[0;34m=\u001b[0m \u001b[0;36m1\u001b[0m\u001b[0;34m/\u001b[0m \u001b[0mnp\u001b[0m\u001b[0;34m.\u001b[0m\u001b[0msqrt\u001b[0m\u001b[0;34m(\u001b[0m\u001b[0mneighbours_movies\u001b[0m\u001b[0;34m.\u001b[0m\u001b[0mpow\u001b[0m\u001b[0;34m(\u001b[0m\u001b[0;36m2\u001b[0m\u001b[0;34m)\u001b[0m\u001b[0;34m.\u001b[0m\u001b[0msum\u001b[0m\u001b[0;34m(\u001b[0m\u001b[0;36m1\u001b[0m\u001b[0;34m)\u001b[0m\u001b[0;34m)\u001b[0m\u001b[0;34m\u001b[0m\u001b[0;34m\u001b[0m\u001b[0m\n\u001b[1;32m     15\u001b[0m \u001b[0;34m\u001b[0m\u001b[0m\n\u001b[0;32m---> 16\u001b[0;31m         \u001b[0muser_movies\u001b[0m \u001b[0;34m=\u001b[0m \u001b[0mtrain_table\u001b[0m\u001b[0;34m.\u001b[0m\u001b[0mloc\u001b[0m\u001b[0;34m[\u001b[0m\u001b[0;34m[\u001b[0m\u001b[0mtarget_user\u001b[0m\u001b[0;34m]\u001b[0m\u001b[0;34m]\u001b[0m\u001b[0;34m\u001b[0m\u001b[0;34m\u001b[0m\u001b[0m\n\u001b[0m\u001b[1;32m     17\u001b[0m         \u001b[0mdenom_user_movies\u001b[0m \u001b[0;34m=\u001b[0m \u001b[0;36m1\u001b[0m\u001b[0;34m/\u001b[0m \u001b[0mnp\u001b[0m\u001b[0;34m.\u001b[0m\u001b[0msqrt\u001b[0m\u001b[0;34m(\u001b[0m\u001b[0muser_movies\u001b[0m\u001b[0;34m.\u001b[0m\u001b[0mpow\u001b[0m\u001b[0;34m(\u001b[0m\u001b[0;36m2\u001b[0m\u001b[0;34m)\u001b[0m\u001b[0;34m.\u001b[0m\u001b[0msum\u001b[0m\u001b[0;34m(\u001b[0m\u001b[0;36m1\u001b[0m\u001b[0;34m)\u001b[0m\u001b[0;34m)\u001b[0m\u001b[0;34m\u001b[0m\u001b[0;34m\u001b[0m\u001b[0m\n\u001b[1;32m     18\u001b[0m \u001b[0;34m\u001b[0m\u001b[0m\n",
            "\u001b[0;32m/usr/local/lib/python3.6/dist-packages/pandas/core/indexing.py\u001b[0m in \u001b[0;36m__getitem__\u001b[0;34m(self, key)\u001b[0m\n\u001b[1;32m   1371\u001b[0m \u001b[0;34m\u001b[0m\u001b[0m\n\u001b[1;32m   1372\u001b[0m             \u001b[0mmaybe_callable\u001b[0m \u001b[0;34m=\u001b[0m \u001b[0mcom\u001b[0m\u001b[0;34m.\u001b[0m\u001b[0m_apply_if_callable\u001b[0m\u001b[0;34m(\u001b[0m\u001b[0mkey\u001b[0m\u001b[0;34m,\u001b[0m \u001b[0mself\u001b[0m\u001b[0;34m.\u001b[0m\u001b[0mobj\u001b[0m\u001b[0;34m)\u001b[0m\u001b[0;34m\u001b[0m\u001b[0;34m\u001b[0m\u001b[0m\n\u001b[0;32m-> 1373\u001b[0;31m             \u001b[0;32mreturn\u001b[0m \u001b[0mself\u001b[0m\u001b[0;34m.\u001b[0m\u001b[0m_getitem_axis\u001b[0m\u001b[0;34m(\u001b[0m\u001b[0mmaybe_callable\u001b[0m\u001b[0;34m,\u001b[0m \u001b[0maxis\u001b[0m\u001b[0;34m=\u001b[0m\u001b[0maxis\u001b[0m\u001b[0;34m)\u001b[0m\u001b[0;34m\u001b[0m\u001b[0;34m\u001b[0m\u001b[0m\n\u001b[0m\u001b[1;32m   1374\u001b[0m \u001b[0;34m\u001b[0m\u001b[0m\n\u001b[1;32m   1375\u001b[0m     \u001b[0;32mdef\u001b[0m \u001b[0m_is_scalar_access\u001b[0m\u001b[0;34m(\u001b[0m\u001b[0mself\u001b[0m\u001b[0;34m,\u001b[0m \u001b[0mkey\u001b[0m\u001b[0;34m)\u001b[0m\u001b[0;34m:\u001b[0m\u001b[0;34m\u001b[0m\u001b[0;34m\u001b[0m\u001b[0m\n",
            "\u001b[0;32m/usr/local/lib/python3.6/dist-packages/pandas/core/indexing.py\u001b[0m in \u001b[0;36m_getitem_axis\u001b[0;34m(self, key, axis)\u001b[0m\n\u001b[1;32m   1614\u001b[0m                     \u001b[0;32mraise\u001b[0m \u001b[0mValueError\u001b[0m\u001b[0;34m(\u001b[0m\u001b[0;34m'Cannot index with multidimensional key'\u001b[0m\u001b[0;34m)\u001b[0m\u001b[0;34m\u001b[0m\u001b[0;34m\u001b[0m\u001b[0m\n\u001b[1;32m   1615\u001b[0m \u001b[0;34m\u001b[0m\u001b[0m\n\u001b[0;32m-> 1616\u001b[0;31m                 \u001b[0;32mreturn\u001b[0m \u001b[0mself\u001b[0m\u001b[0;34m.\u001b[0m\u001b[0m_getitem_iterable\u001b[0m\u001b[0;34m(\u001b[0m\u001b[0mkey\u001b[0m\u001b[0;34m,\u001b[0m \u001b[0maxis\u001b[0m\u001b[0;34m=\u001b[0m\u001b[0maxis\u001b[0m\u001b[0;34m)\u001b[0m\u001b[0;34m\u001b[0m\u001b[0;34m\u001b[0m\u001b[0m\n\u001b[0m\u001b[1;32m   1617\u001b[0m \u001b[0;34m\u001b[0m\u001b[0m\n\u001b[1;32m   1618\u001b[0m             \u001b[0;31m# nested tuple slicing\u001b[0m\u001b[0;34m\u001b[0m\u001b[0;34m\u001b[0m\u001b[0;34m\u001b[0m\u001b[0m\n",
            "\u001b[0;32m/usr/local/lib/python3.6/dist-packages/pandas/core/indexing.py\u001b[0m in \u001b[0;36m_getitem_iterable\u001b[0;34m(self, key, axis)\u001b[0m\n\u001b[1;32m   1113\u001b[0m \u001b[0;34m\u001b[0m\u001b[0m\n\u001b[1;32m   1114\u001b[0m         \u001b[0;32mif\u001b[0m \u001b[0mself\u001b[0m\u001b[0;34m.\u001b[0m\u001b[0m_should_validate_iterable\u001b[0m\u001b[0;34m(\u001b[0m\u001b[0maxis\u001b[0m\u001b[0;34m)\u001b[0m\u001b[0;34m:\u001b[0m\u001b[0;34m\u001b[0m\u001b[0;34m\u001b[0m\u001b[0m\n\u001b[0;32m-> 1115\u001b[0;31m             \u001b[0mself\u001b[0m\u001b[0;34m.\u001b[0m\u001b[0m_has_valid_type\u001b[0m\u001b[0;34m(\u001b[0m\u001b[0mkey\u001b[0m\u001b[0;34m,\u001b[0m \u001b[0maxis\u001b[0m\u001b[0;34m)\u001b[0m\u001b[0;34m\u001b[0m\u001b[0;34m\u001b[0m\u001b[0m\n\u001b[0m\u001b[1;32m   1116\u001b[0m \u001b[0;34m\u001b[0m\u001b[0m\n\u001b[1;32m   1117\u001b[0m         \u001b[0mlabels\u001b[0m \u001b[0;34m=\u001b[0m \u001b[0mself\u001b[0m\u001b[0;34m.\u001b[0m\u001b[0mobj\u001b[0m\u001b[0;34m.\u001b[0m\u001b[0m_get_axis\u001b[0m\u001b[0;34m(\u001b[0m\u001b[0maxis\u001b[0m\u001b[0;34m)\u001b[0m\u001b[0;34m\u001b[0m\u001b[0;34m\u001b[0m\u001b[0m\n",
            "\u001b[0;32m/usr/local/lib/python3.6/dist-packages/pandas/core/indexing.py\u001b[0m in \u001b[0;36m_has_valid_type\u001b[0;34m(self, key, axis)\u001b[0m\n\u001b[1;32m   1466\u001b[0m                 \u001b[0mmissing\u001b[0m \u001b[0;34m=\u001b[0m \u001b[0max\u001b[0m\u001b[0;34m.\u001b[0m\u001b[0mget_indexer_for\u001b[0m\u001b[0;34m(\u001b[0m\u001b[0mkey\u001b[0m\u001b[0;34m)\u001b[0m \u001b[0;34m<\u001b[0m \u001b[0;36m0\u001b[0m\u001b[0;34m\u001b[0m\u001b[0;34m\u001b[0m\u001b[0m\n\u001b[1;32m   1467\u001b[0m \u001b[0;34m\u001b[0m\u001b[0m\n\u001b[0;32m-> 1468\u001b[0;31m                 \u001b[0;32mif\u001b[0m \u001b[0mnp\u001b[0m\u001b[0;34m.\u001b[0m\u001b[0many\u001b[0m\u001b[0;34m(\u001b[0m\u001b[0mmissing\u001b[0m\u001b[0;34m)\u001b[0m\u001b[0;34m:\u001b[0m\u001b[0;34m\u001b[0m\u001b[0;34m\u001b[0m\u001b[0m\n\u001b[0m\u001b[1;32m   1469\u001b[0m                     \u001b[0;32mif\u001b[0m \u001b[0mlen\u001b[0m\u001b[0;34m(\u001b[0m\u001b[0mkey\u001b[0m\u001b[0;34m)\u001b[0m \u001b[0;34m==\u001b[0m \u001b[0;36m1\u001b[0m \u001b[0;32mor\u001b[0m \u001b[0mnp\u001b[0m\u001b[0;34m.\u001b[0m\u001b[0mall\u001b[0m\u001b[0;34m(\u001b[0m\u001b[0mmissing\u001b[0m\u001b[0;34m)\u001b[0m\u001b[0;34m:\u001b[0m\u001b[0;34m\u001b[0m\u001b[0;34m\u001b[0m\u001b[0m\n\u001b[1;32m   1470\u001b[0m                         raise KeyError(\n",
            "\u001b[0;32m/usr/local/lib/python3.6/dist-packages/numpy/core/fromnumeric.py\u001b[0m in \u001b[0;36many\u001b[0;34m(a, axis, out, keepdims)\u001b[0m\n\u001b[1;32m   2012\u001b[0m \u001b[0;34m\u001b[0m\u001b[0m\n\u001b[1;32m   2013\u001b[0m     \"\"\"\n\u001b[0;32m-> 2014\u001b[0;31m     \u001b[0marr\u001b[0m \u001b[0;34m=\u001b[0m \u001b[0masanyarray\u001b[0m\u001b[0;34m(\u001b[0m\u001b[0ma\u001b[0m\u001b[0;34m)\u001b[0m\u001b[0;34m\u001b[0m\u001b[0;34m\u001b[0m\u001b[0m\n\u001b[0m\u001b[1;32m   2015\u001b[0m     \u001b[0mkwargs\u001b[0m \u001b[0;34m=\u001b[0m \u001b[0;34m{\u001b[0m\u001b[0;34m}\u001b[0m\u001b[0;34m\u001b[0m\u001b[0;34m\u001b[0m\u001b[0m\n\u001b[1;32m   2016\u001b[0m     \u001b[0;32mif\u001b[0m \u001b[0mkeepdims\u001b[0m \u001b[0;32mis\u001b[0m \u001b[0;32mnot\u001b[0m \u001b[0mnp\u001b[0m\u001b[0;34m.\u001b[0m\u001b[0m_NoValue\u001b[0m\u001b[0;34m:\u001b[0m\u001b[0;34m\u001b[0m\u001b[0;34m\u001b[0m\u001b[0m\n",
            "\u001b[0;32m/usr/local/lib/python3.6/dist-packages/numpy/core/numeric.py\u001b[0m in \u001b[0;36masanyarray\u001b[0;34m(a, dtype, order)\u001b[0m\n\u001b[1;32m    542\u001b[0m \u001b[0;34m\u001b[0m\u001b[0m\n\u001b[1;32m    543\u001b[0m     \"\"\"\n\u001b[0;32m--> 544\u001b[0;31m     \u001b[0;32mreturn\u001b[0m \u001b[0marray\u001b[0m\u001b[0;34m(\u001b[0m\u001b[0ma\u001b[0m\u001b[0;34m,\u001b[0m \u001b[0mdtype\u001b[0m\u001b[0;34m,\u001b[0m \u001b[0mcopy\u001b[0m\u001b[0;34m=\u001b[0m\u001b[0;32mFalse\u001b[0m\u001b[0;34m,\u001b[0m \u001b[0morder\u001b[0m\u001b[0;34m=\u001b[0m\u001b[0morder\u001b[0m\u001b[0;34m,\u001b[0m \u001b[0msubok\u001b[0m\u001b[0;34m=\u001b[0m\u001b[0;32mTrue\u001b[0m\u001b[0;34m)\u001b[0m\u001b[0;34m\u001b[0m\u001b[0;34m\u001b[0m\u001b[0m\n\u001b[0m\u001b[1;32m    545\u001b[0m \u001b[0;34m\u001b[0m\u001b[0m\n\u001b[1;32m    546\u001b[0m \u001b[0;34m\u001b[0m\u001b[0m\n",
            "\u001b[0;31mKeyboardInterrupt\u001b[0m: "
          ]
        }
      ]
    },
    {
      "metadata": {
        "id": "DVb5tt0Sc4Fg",
        "colab_type": "code",
        "outputId": "bb824572-1356-40c3-91a8-fa3b7e6ffa41",
        "colab": {
          "base_uri": "https://localhost:8080/",
          "height": 229
        }
      },
      "cell_type": "code",
      "source": [
        "for i in predicted_rating.keys():\n",
        "  print(i, predicted_rating[i])\n",
        "  \n",
        "for i in test_data.userId.unique()[:10]:\n",
        "  temp = test_data.index[test_data['userId']==i].tolist()\n",
        "  for j in temp:\n",
        "    print(test_data.at[j,'rating'],end=', ')\n",
        "  print()\n",
        "    \n",
        "\n"
      ],
      "execution_count": 0,
      "outputs": [
        {
          "output_type": "error",
          "ename": "NameError",
          "evalue": "ignored",
          "traceback": [
            "\u001b[0;31m---------------------------------------------------------------------------\u001b[0m",
            "\u001b[0;31mNameError\u001b[0m                                 Traceback (most recent call last)",
            "\u001b[0;32m<ipython-input-8-9de016a18164>\u001b[0m in \u001b[0;36m<module>\u001b[0;34m()\u001b[0m\n\u001b[0;32m----> 1\u001b[0;31m \u001b[0;32mfor\u001b[0m \u001b[0mi\u001b[0m \u001b[0;32min\u001b[0m \u001b[0mpredicted_rating\u001b[0m\u001b[0;34m.\u001b[0m\u001b[0mkeys\u001b[0m\u001b[0;34m(\u001b[0m\u001b[0;34m)\u001b[0m\u001b[0;34m:\u001b[0m\u001b[0;34m\u001b[0m\u001b[0;34m\u001b[0m\u001b[0m\n\u001b[0m\u001b[1;32m      2\u001b[0m   \u001b[0mprint\u001b[0m\u001b[0;34m(\u001b[0m\u001b[0mi\u001b[0m\u001b[0;34m,\u001b[0m \u001b[0mpredicted_rating\u001b[0m\u001b[0;34m[\u001b[0m\u001b[0mi\u001b[0m\u001b[0;34m]\u001b[0m\u001b[0;34m)\u001b[0m\u001b[0;34m\u001b[0m\u001b[0;34m\u001b[0m\u001b[0m\n\u001b[1;32m      3\u001b[0m \u001b[0;34m\u001b[0m\u001b[0m\n\u001b[1;32m      4\u001b[0m \u001b[0;32mfor\u001b[0m \u001b[0mi\u001b[0m \u001b[0;32min\u001b[0m \u001b[0mtest_data\u001b[0m\u001b[0;34m.\u001b[0m\u001b[0muserId\u001b[0m\u001b[0;34m.\u001b[0m\u001b[0munique\u001b[0m\u001b[0;34m(\u001b[0m\u001b[0;34m)\u001b[0m\u001b[0;34m[\u001b[0m\u001b[0;34m:\u001b[0m\u001b[0;36m10\u001b[0m\u001b[0;34m]\u001b[0m\u001b[0;34m:\u001b[0m\u001b[0;34m\u001b[0m\u001b[0;34m\u001b[0m\u001b[0m\n\u001b[1;32m      5\u001b[0m   \u001b[0mtemp\u001b[0m \u001b[0;34m=\u001b[0m \u001b[0mtest_data\u001b[0m\u001b[0;34m.\u001b[0m\u001b[0mindex\u001b[0m\u001b[0;34m[\u001b[0m\u001b[0mtest_data\u001b[0m\u001b[0;34m[\u001b[0m\u001b[0;34m'userId'\u001b[0m\u001b[0;34m]\u001b[0m\u001b[0;34m==\u001b[0m\u001b[0mi\u001b[0m\u001b[0;34m]\u001b[0m\u001b[0;34m.\u001b[0m\u001b[0mtolist\u001b[0m\u001b[0;34m(\u001b[0m\u001b[0;34m)\u001b[0m\u001b[0;34m\u001b[0m\u001b[0;34m\u001b[0m\u001b[0m\n",
            "\u001b[0;31mNameError\u001b[0m: name 'predicted_rating' is not defined"
          ]
        }
      ]
    },
    {
      "metadata": {
        "id": "_0FLWYxeQquz",
        "colab_type": "code",
        "outputId": "e4de1181-1bbf-4b08-8db9-7d42b6715603",
        "colab": {
          "base_uri": "https://localhost:8080/",
          "height": 34
        }
      },
      "cell_type": "code",
      "source": [
        "def neighbours(target_movie,target_user,train_data):\n",
        "    #user_list = [i for i in range(len(train_mat)) if train_table.query(\"userId==i\")[target_movie] != 0]\n",
        "#     index_list = train_data.index[train_data['movieId']==target_movie].tolist()\n",
        "#     user_list = [train_data.at[ind,'userId'] for ind in index_list]\n",
        "    user_list = train_data[(train_data['movieId']==target_movie) & (train_data['userId'] != target_user)]['userId']\n",
        "#     if target_user in user_list:\n",
        "#         user_list.remove(target_user)\n",
        "    return user_list \n",
        "users = neighbours(101,1,train_data)\n",
        "\n",
        "neighbours_movies = train_table.loc[users]\n",
        "denom_neighbours_movies = 1/ np.sqrt(neighbours_movies.pow(2).sum(1))\n",
        "\n",
        "user_movies = train_table.loc[[1]]\n",
        "denom_user_movies = 1/ np.sqrt(user_movies.pow(2).sum(1))\n",
        "\n",
        "denom = np.expand_dims(np.multiply(denom_neighbours_movies, denom_user_movies), axis=1)\n",
        "similarity = neighbours_movies.dot(user_movies.T).multiply(denom)\n",
        "#===\n",
        "#rating_mean = np.expand_dims(np.mean(neighbours_movies, axis=1), axis=1)\n",
        "rating_mean = np.mean(neighbours_movies, axis=1)\n",
        "next_term = np.subtract(neighbours_movies[101],rating_mean)\n",
        "#######\n",
        "rating_mean_user = np.expand_dims(np.mean(user_movies, axis=1), axis=1)\n",
        "\n",
        "#==\n",
        "mul_term = similarity.T.dot(next_term)\n",
        "similarity.shape\n",
        "#train_table.query(\"userId==102\")\n"
      ],
      "execution_count": 0,
      "outputs": [
        {
          "output_type": "execute_result",
          "data": {
            "text/plain": [
              "(72, 1)"
            ]
          },
          "metadata": {
            "tags": []
          },
          "execution_count": 150
        }
      ]
    },
    {
      "metadata": {
        "id": "E9taXlfxnSVR",
        "colab_type": "code",
        "outputId": "e14640d0-ffe6-4521-a8f5-5dce0d976382",
        "colab": {
          "base_uri": "https://localhost:8080/",
          "height": 34
        }
      },
      "cell_type": "code",
      "source": [
        "neighbours_movies[101].shape"
      ],
      "execution_count": 0,
      "outputs": [
        {
          "output_type": "execute_result",
          "data": {
            "text/plain": [
              "(72,)"
            ]
          },
          "metadata": {
            "tags": []
          },
          "execution_count": 147
        }
      ]
    },
    {
      "metadata": {
        "id": "3Qvhrrkdmhus",
        "colab_type": "code",
        "outputId": "634edb46-ae9c-4234-e70c-e89028a4f70b",
        "colab": {
          "base_uri": "https://localhost:8080/",
          "height": 34
        }
      },
      "cell_type": "code",
      "source": [
        "rating_mean = np.expand_dims(np.mean(neighbours_movies, axis=1), axis=1)\n",
        "rating_mean.shape\n",
        "\n",
        "#neighbours_movies\n",
        "next_term.shape\n"
      ],
      "execution_count": 0,
      "outputs": [
        {
          "output_type": "execute_result",
          "data": {
            "text/plain": [
              "(72, 1211)"
            ]
          },
          "metadata": {
            "tags": []
          },
          "execution_count": 128
        }
      ]
    },
    {
      "metadata": {
        "id": "O3dtrtCjW3vQ",
        "colab_type": "code",
        "outputId": "2e3eae41-c300-408a-b0cd-648382c89a09",
        "colab": {
          "base_uri": "https://localhost:8080/",
          "height": 84
        }
      },
      "cell_type": "code",
      "source": [
        "train_table.columns"
      ],
      "execution_count": 0,
      "outputs": [
        {
          "output_type": "execute_result",
          "data": {
            "text/plain": [
              "Int64Index([   0,    1,    2,    3,    4,    5,    6,    7,    8,    9,\n",
              "            ...\n",
              "            1201, 1202, 1203, 1204, 1205, 1206, 1207, 1208, 1209, 1210],\n",
              "           dtype='int64', name='movieId', length=1211)"
            ]
          },
          "metadata": {
            "tags": []
          },
          "execution_count": 37
        }
      ]
    },
    {
      "metadata": {
        "id": "Vqr1wD1sRfLx",
        "colab_type": "code",
        "outputId": "5086497b-3afa-40d3-90a8-d1cc6195db37",
        "colab": {
          "base_uri": "https://localhost:8080/",
          "height": 34
        }
      },
      "cell_type": "code",
      "source": [
        "any((train_data['movieId']==101) & (train_data['userId'] != 1))"
      ],
      "execution_count": 0,
      "outputs": [
        {
          "output_type": "execute_result",
          "data": {
            "text/plain": [
              "True"
            ]
          },
          "metadata": {
            "tags": []
          },
          "execution_count": 21
        }
      ]
    },
    {
      "metadata": {
        "id": "8Q4GcjI2fsEx",
        "colab_type": "code",
        "outputId": "1bc366ab-a97b-4c1b-aa9b-dffab6dc0adb",
        "colab": {
          "base_uri": "https://localhost:8080/",
          "height": 50
        }
      },
      "cell_type": "code",
      "source": [
        "\n",
        "denom_neighbours_movies =1/ np.sqrt(neighbours_movies.pow(2).sum(1))\n",
        "denom_neighbours_movies * 1\n",
        "denom_user_movies = 1/ np.sqrt(user_movies.pow(2).sum(1))\n",
        "print(denom_user_movies.shape, denom_neighbours_movies.shape)\n",
        "np.multiply(denom_neighbours_movies, denom_user_movies).shape"
      ],
      "execution_count": 0,
      "outputs": [
        {
          "output_type": "stream",
          "text": [
            "(1,) (72,)\n"
          ],
          "name": "stdout"
        },
        {
          "output_type": "execute_result",
          "data": {
            "text/plain": [
              "(72,)"
            ]
          },
          "metadata": {
            "tags": []
          },
          "execution_count": 93
        }
      ]
    },
    {
      "metadata": {
        "id": "ia8KXdX7i5qW",
        "colab_type": "code",
        "colab": {}
      },
      "cell_type": "code",
      "source": [
        "denom = np.expand_dims(np.multiply(denom_neighbours_movies, denom_user_movies), axis=1)"
      ],
      "execution_count": 0,
      "outputs": []
    },
    {
      "metadata": {
        "id": "c7fby80vc4Fi",
        "colab_type": "text"
      },
      "cell_type": "markdown",
      "source": [
        "### Evaluation\n",
        "\n",
        "You should evaluate your predictions using Mean Absolute Error and Root Mean Squared Error. "
      ]
    },
    {
      "metadata": {
        "id": "5DAVI9U8c4Fj",
        "colab_type": "code",
        "colab": {}
      },
      "cell_type": "code",
      "source": [
        "# Your Code Here...\n",
        "# Report Mean Absolute Error and Root Mean Squared Error for test set\n",
        "\n",
        "\n"
      ],
      "execution_count": 0,
      "outputs": []
    },
    {
      "metadata": {
        "id": "Pmuq_5Xfc4Fl",
        "colab_type": "text"
      },
      "cell_type": "markdown",
      "source": [
        "### Pearson correlation\n",
        "\n",
        "Then, you will try to calculate the similarity between users with pearson correlation following `week06rec.pdf` (Page 37). And then you need to predict the rating for each (user, movie) tuple in the test set."
      ]
    },
    {
      "metadata": {
        "id": "XPfZRPscc4Fm",
        "colab_type": "code",
        "colab": {}
      },
      "cell_type": "code",
      "source": [
        "# Your Code Here...\n",
        "# Predict for test set\n",
        "\n"
      ],
      "execution_count": 0,
      "outputs": []
    },
    {
      "metadata": {
        "id": "Ea9TEOf6c4Fo",
        "colab_type": "text"
      },
      "cell_type": "markdown",
      "source": [
        "### Evaluation\n",
        "\n",
        "You should evaluate your predictions using Mean Absolute Error and Root Mean Squared Error. "
      ]
    },
    {
      "metadata": {
        "id": "fStbuluSc4Fp",
        "colab_type": "code",
        "colab": {}
      },
      "cell_type": "code",
      "source": [
        "# Your Code Here...\n",
        "# Report Mean Absolute Error and Root Mean Squared Error for test\n",
        "\n"
      ],
      "execution_count": 0,
      "outputs": []
    },
    {
      "metadata": {
        "id": "MFOF4o_4c4Ft",
        "colab_type": "text"
      },
      "cell_type": "markdown",
      "source": [
        "### Pearson correlation (varying the threshold)\n",
        "\n",
        "In [Collaborative Filtering Recommender Systems](http://files.grouplens.org/papers/FnT%20CF%20Recsys%20Survey.pdf), they observe that: \n",
        "\n",
        "> Pearson correlation suffers from computing high similarity\n",
        "between users with few ratings in common. This can be alleviated by setting a threshold on the number of co-rated items\n",
        "necessary for full agreement (correlation of 1) and scaling the\n",
        "similarity when the number of co-rated items falls below this\n",
        "threshold.\n",
        "\n",
        "So now revise your Pearson to consider a threshold. Try several values and report for one that you think is appropriate."
      ]
    },
    {
      "metadata": {
        "id": "4Q3UEx8tc4Fu",
        "colab_type": "code",
        "colab": {}
      },
      "cell_type": "code",
      "source": [
        "# Your Code Here...\n",
        "# Predict for test set\n",
        "\n"
      ],
      "execution_count": 0,
      "outputs": []
    },
    {
      "metadata": {
        "id": "aswwhSdQc4Fx",
        "colab_type": "text"
      },
      "cell_type": "markdown",
      "source": [
        "### Evaluation\n",
        "\n",
        "You should evaluate your predictions using Mean Absolute Error and Root Mean Squared Error. "
      ]
    },
    {
      "metadata": {
        "id": "WtzfB64dc4Fx",
        "colab_type": "code",
        "colab": {}
      },
      "cell_type": "code",
      "source": [
        "# Your Code Here...\n",
        "# Report Mean Absolute Error and Root Mean Squared Error for test\n",
        "\n"
      ],
      "execution_count": 0,
      "outputs": []
    },
    {
      "metadata": {
        "id": "nWUiFEkmc4Fz",
        "colab_type": "text"
      },
      "cell_type": "markdown",
      "source": [
        "What do you observe? How different are your results for the original Pearson Correlation approach vs. the thresholded version vs. the Cosine Similarity approach? Why do you think this is? *provide a brief (1-2 paragraph) discussion based on these questions.*"
      ]
    },
    {
      "metadata": {
        "id": "-sURFAK3c4F0",
        "colab_type": "code",
        "colab": {}
      },
      "cell_type": "code",
      "source": [
        ""
      ],
      "execution_count": 0,
      "outputs": []
    },
    {
      "metadata": {
        "id": "kAs3hnBuc4F2",
        "colab_type": "text"
      },
      "cell_type": "markdown",
      "source": [
        "# Part 2. MF (20 points)\n",
        "\n",
        "In class, we introduced how matrix factorization works for recommendation. Now it is your term to implement it. There are different methods to obtain the latent factor matrices **P** and **Q**, like gradient descent, Alternating Least Squares (ALS), and so on. Pick one of them and implement your MF model. *You can refer to tutorials and resources online. Remember our **collaboration policy** and you need to inform us of the resources you refer to.* \n",
        "\n",
        "Please report MAE and RMSE of your MF model for the test set. *You are expected to get a lower MAE and RMSE compared with the results in Part 1.*"
      ]
    },
    {
      "metadata": {
        "id": "fKMXT7SZc4F4",
        "colab_type": "code",
        "colab": {}
      },
      "cell_type": "code",
      "source": [
        "# Your Code Here...\n",
        "# Report Mean Absolute Error and Root Mean Squared Error for test\n",
        "\n",
        "\n"
      ],
      "execution_count": 0,
      "outputs": []
    },
    {
      "metadata": {
        "id": "Zg-berkhc4F6",
        "colab_type": "text"
      },
      "cell_type": "markdown",
      "source": [
        "Which method did you use to obtain **P** and **Q**? What are the advantages and disadvantages of the method you pick? *provide a brief (1-2 paragraph) discussion based on these questions.*"
      ]
    },
    {
      "metadata": {
        "id": "mNwy1VhAc4F6",
        "colab_type": "code",
        "colab": {}
      },
      "cell_type": "code",
      "source": [
        ""
      ],
      "execution_count": 0,
      "outputs": []
    },
    {
      "metadata": {
        "id": "PGsXpiXLc4F8",
        "colab_type": "text"
      },
      "cell_type": "markdown",
      "source": [
        "# Part 3. Extension (30 points)\n",
        "\n",
        "Given your results in the previous parts, can you do better? For this last part you should report on your best attempt at improving MAE and RMSE. Provide code, results, plus a brief discussion on your approach. Hints: You may consider using the title or genres information, trying other algorithms, designing a hybrid system, and so on. *As in the last homework, you can do anything you like to improve MAE and RMSE.*\n",
        "\n",
        "You will get full marks for this part if you get better results than both of your CF and MF (of course we will also judge whether what you do here is reasonable or not). Additionally, you will get 5 points as bonus if your model performs the best among the whole class."
      ]
    },
    {
      "metadata": {
        "id": "nv2JY9Awc4F9",
        "colab_type": "code",
        "colab": {}
      },
      "cell_type": "code",
      "source": [
        "# Your Code Here...\n",
        "# Report Mean Absolute Error and Root Mean Squared Error for test\n",
        "\n",
        "\n"
      ],
      "execution_count": 0,
      "outputs": []
    },
    {
      "metadata": {
        "id": "pZtpfSTFc4GA",
        "colab_type": "text"
      },
      "cell_type": "markdown",
      "source": [
        "Please explain what you do to improve the recommendation in 1-2 paragraphs."
      ]
    },
    {
      "metadata": {
        "id": "RRdprsFGc4GA",
        "colab_type": "code",
        "colab": {}
      },
      "cell_type": "code",
      "source": [
        ""
      ],
      "execution_count": 0,
      "outputs": []
    },
    {
      "metadata": {
        "id": "_cg1Gvk6c4GD",
        "colab_type": "text"
      },
      "cell_type": "markdown",
      "source": [
        "## Collaboration declarations"
      ]
    },
    {
      "metadata": {
        "id": "D7HFmSLAc4GE",
        "colab_type": "text"
      },
      "cell_type": "markdown",
      "source": [
        "*If you collaborated with anyone (see Collaboration policy at the top of this homework), you can put your collaboration declarations here.*"
      ]
    },
    {
      "metadata": {
        "id": "6leibuD0c4GF",
        "colab_type": "code",
        "colab": {}
      },
      "cell_type": "code",
      "source": [
        ""
      ],
      "execution_count": 0,
      "outputs": []
    }
  ]
}